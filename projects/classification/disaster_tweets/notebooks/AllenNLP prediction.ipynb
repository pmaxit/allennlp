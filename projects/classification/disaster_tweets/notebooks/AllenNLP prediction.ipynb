{
 "cells": [
  {
   "cell_type": "code",
   "execution_count": 1,
   "id": "d4c1ef22",
   "metadata": {},
   "outputs": [],
   "source": [
    "import torch\n",
    "from allennlp.models.archival import load_archive\n",
    "from allennlp.predictors.predictor import Predictor\n",
    "from allennlp.common.file_utils import cached_path\n",
    "import torch.nn.functional as F\n",
    "\n",
    "import pandas as pd\n",
    "import swifter"
   ]
  },
  {
   "cell_type": "code",
   "execution_count": 2,
   "id": "15f52537",
   "metadata": {},
   "outputs": [],
   "source": [
    "import sys\n",
    "sys.path.insert(0,'../')"
   ]
  },
  {
   "cell_type": "code",
   "execution_count": 3,
   "id": "cf3a31b4",
   "metadata": {},
   "outputs": [],
   "source": [
    "from src.tweet_reader import *\n",
    "from src.disaster_classifier import *\n",
    "from src.predictor import *"
   ]
  },
  {
   "cell_type": "code",
   "execution_count": 4,
   "id": "e91908ca",
   "metadata": {},
   "outputs": [
    {
     "name": "stderr",
     "output_type": "stream",
     "text": [
      "Some weights of the model checkpoint at roberta-large were not used when initializing RobertaModel: ['lm_head.dense.weight', 'lm_head.decoder.weight', 'lm_head.layer_norm.weight', 'lm_head.layer_norm.bias', 'lm_head.bias', 'lm_head.dense.bias']\n",
      "- This IS expected if you are initializing RobertaModel from the checkpoint of a model trained on another task or with another architecture (e.g. initializing a BertForSequenceClassification model from a BertForPreTraining model).\n",
      "- This IS NOT expected if you are initializing RobertaModel from the checkpoint of a model that you expect to be exactly identical (initializing a BertForSequenceClassification model from a BertForSequenceClassification model).\n",
      "/home/puneet/Envs/venv/lib/python3.8/site-packages/torch/nn/modules/container.py:435: UserWarning: Setting attributes on ParameterList is not supported.\n",
      "  warnings.warn(\"Setting attributes on ParameterList is not supported.\")\n"
     ]
    }
   ],
   "source": [
    "archive = load_archive('../tmp/model.tar.gz')\n",
    "predictor = Predictor.from_archive(archive, 'disaster', dataset_reader_to_load='tweety')\n"
   ]
  },
  {
   "cell_type": "code",
   "execution_count": 5,
   "id": "42b55e01",
   "metadata": {},
   "outputs": [],
   "source": [
    "df = pd.read_csv(\"../data/test-v2.csv\")"
   ]
  },
  {
   "cell_type": "code",
   "execution_count": 12,
   "id": "e04a04d1",
   "metadata": {},
   "outputs": [],
   "source": [
    "inputs={'text':'I love volcano erupting!'}\n",
    "instance = predictor._json_to_instance(inputs)"
   ]
  },
  {
   "cell_type": "code",
   "execution_count": 23,
   "id": "f7d52c14",
   "metadata": {},
   "outputs": [],
   "source": [
    "keys = archive.model.vocab.get_token_to_index_vocabulary('tokens').keys()"
   ]
  },
  {
   "cell_type": "code",
   "execution_count": 13,
   "id": "efcf31a1",
   "metadata": {},
   "outputs": [
    {
     "data": {
      "text/plain": [
       "[i, love, volcano, erupting]"
      ]
     },
     "execution_count": 13,
     "metadata": {},
     "output_type": "execute_result"
    }
   ],
   "source": [
    "instance.fields['tokens'].tokens"
   ]
  },
  {
   "cell_type": "code",
   "execution_count": null,
   "id": "f9b4a442",
   "metadata": {},
   "outputs": [],
   "source": [
    "def predict(row):\n",
    "    text = row['combined_text']\n",
    "    sentence = {'text': text}\n",
    "    outputs = predictor.predict_json(sentence)\n",
    "    return outputs['label']\n",
    "    \n",
    "df['target'] = df.swifter.apply(lambda x: predict(x),1)\n"
   ]
  },
  {
   "cell_type": "code",
   "execution_count": null,
   "id": "38204860",
   "metadata": {},
   "outputs": [],
   "source": [
    "sentence = 'I  love Berlin!'\n",
    "predict({'combined_text': sentence})"
   ]
  },
  {
   "cell_type": "markdown",
   "id": "9105a43d",
   "metadata": {},
   "source": [
    "# Submission"
   ]
  },
  {
   "cell_type": "code",
   "execution_count": 36,
   "id": "16f07e66",
   "metadata": {},
   "outputs": [],
   "source": [
    "def combine(test_file, output_file):\n",
    "    test_file = pd.read_csv(test_file)\n",
    "    output_file = pd.read_json(output_file,lines=True)\n",
    "\n",
    "    submissions = pd.DataFrame({'id': test_file['id']})\n",
    "    submissions['target'] = output_file.label.values\n",
    "    \n",
    "    submissions['target_prob']= output_file.probs.apply(lambda x: x[1],1)\n",
    "\n",
    "    return submissions"
   ]
  },
  {
   "cell_type": "code",
   "execution_count": 68,
   "id": "0850aaa4",
   "metadata": {},
   "outputs": [],
   "source": [
    "df1 = combine(\"../data/test/test.csv\",\"../data/output.csv\")\n",
    "#df2 = combine(\"../data/test/test.csv\",\"../data/output2.csv\")\n",
    "df2 = combine(\"../data/test/test.csv\",\"../data/output3.csv\")"
   ]
  },
  {
   "cell_type": "code",
   "execution_count": 33,
   "id": "3a916cde",
   "metadata": {},
   "outputs": [
    {
     "data": {
      "text/plain": [
       "331"
      ]
     },
     "execution_count": 33,
     "metadata": {},
     "output_type": "execute_result"
    }
   ],
   "source": [
    "(df1.target != df2.target).sum()"
   ]
  },
  {
   "cell_type": "code",
   "execution_count": 69,
   "id": "e184d3e1",
   "metadata": {},
   "outputs": [],
   "source": [
    "final_df = df2"
   ]
  },
  {
   "cell_type": "code",
   "execution_count": 77,
   "id": "0cdfc42d",
   "metadata": {},
   "outputs": [],
   "source": [
    "final_df['target_prob'] = (0.7*df1.target_prob + 0.3*df2.target_prob)"
   ]
  },
  {
   "cell_type": "code",
   "execution_count": 78,
   "id": "ef2cb7ff",
   "metadata": {},
   "outputs": [
    {
     "data": {
      "text/plain": [
       "1163"
      ]
     },
     "execution_count": 78,
     "metadata": {},
     "output_type": "execute_result"
    }
   ],
   "source": [
    "(final_df['target_prob'] > 0.5).sum()"
   ]
  },
  {
   "cell_type": "code",
   "execution_count": 79,
   "id": "b6bcd0b2",
   "metadata": {},
   "outputs": [],
   "source": [
    "final_df['target'] = final_df['target_prob'].apply(lambda x: 1 if x>=0.5 else 0)"
   ]
  },
  {
   "cell_type": "code",
   "execution_count": 80,
   "id": "fe1b62e3",
   "metadata": {},
   "outputs": [
    {
     "data": {
      "text/html": [
       "<div>\n",
       "<style scoped>\n",
       "    .dataframe tbody tr th:only-of-type {\n",
       "        vertical-align: middle;\n",
       "    }\n",
       "\n",
       "    .dataframe tbody tr th {\n",
       "        vertical-align: top;\n",
       "    }\n",
       "\n",
       "    .dataframe thead th {\n",
       "        text-align: right;\n",
       "    }\n",
       "</style>\n",
       "<table border=\"1\" class=\"dataframe\">\n",
       "  <thead>\n",
       "    <tr style=\"text-align: right;\">\n",
       "      <th></th>\n",
       "      <th>id</th>\n",
       "      <th>target</th>\n",
       "      <th>target_prob</th>\n",
       "    </tr>\n",
       "  </thead>\n",
       "  <tbody>\n",
       "    <tr>\n",
       "      <th>0</th>\n",
       "      <td>0</td>\n",
       "      <td>1</td>\n",
       "      <td>0.848268</td>\n",
       "    </tr>\n",
       "    <tr>\n",
       "      <th>1</th>\n",
       "      <td>2</td>\n",
       "      <td>1</td>\n",
       "      <td>0.678455</td>\n",
       "    </tr>\n",
       "    <tr>\n",
       "      <th>2</th>\n",
       "      <td>3</td>\n",
       "      <td>1</td>\n",
       "      <td>0.862347</td>\n",
       "    </tr>\n",
       "    <tr>\n",
       "      <th>3</th>\n",
       "      <td>9</td>\n",
       "      <td>1</td>\n",
       "      <td>0.634202</td>\n",
       "    </tr>\n",
       "    <tr>\n",
       "      <th>4</th>\n",
       "      <td>11</td>\n",
       "      <td>1</td>\n",
       "      <td>0.842759</td>\n",
       "    </tr>\n",
       "    <tr>\n",
       "      <th>...</th>\n",
       "      <td>...</td>\n",
       "      <td>...</td>\n",
       "      <td>...</td>\n",
       "    </tr>\n",
       "    <tr>\n",
       "      <th>95</th>\n",
       "      <td>323</td>\n",
       "      <td>0</td>\n",
       "      <td>0.148551</td>\n",
       "    </tr>\n",
       "    <tr>\n",
       "      <th>96</th>\n",
       "      <td>324</td>\n",
       "      <td>0</td>\n",
       "      <td>0.126938</td>\n",
       "    </tr>\n",
       "    <tr>\n",
       "      <th>97</th>\n",
       "      <td>325</td>\n",
       "      <td>0</td>\n",
       "      <td>0.187173</td>\n",
       "    </tr>\n",
       "    <tr>\n",
       "      <th>98</th>\n",
       "      <td>326</td>\n",
       "      <td>0</td>\n",
       "      <td>0.331998</td>\n",
       "    </tr>\n",
       "    <tr>\n",
       "      <th>99</th>\n",
       "      <td>333</td>\n",
       "      <td>0</td>\n",
       "      <td>0.131103</td>\n",
       "    </tr>\n",
       "  </tbody>\n",
       "</table>\n",
       "<p>100 rows × 3 columns</p>\n",
       "</div>"
      ],
      "text/plain": [
       "     id  target  target_prob\n",
       "0     0       1     0.848268\n",
       "1     2       1     0.678455\n",
       "2     3       1     0.862347\n",
       "3     9       1     0.634202\n",
       "4    11       1     0.842759\n",
       "..  ...     ...          ...\n",
       "95  323       0     0.148551\n",
       "96  324       0     0.126938\n",
       "97  325       0     0.187173\n",
       "98  326       0     0.331998\n",
       "99  333       0     0.131103\n",
       "\n",
       "[100 rows x 3 columns]"
      ]
     },
     "execution_count": 80,
     "metadata": {},
     "output_type": "execute_result"
    }
   ],
   "source": [
    "final_df.head(100)"
   ]
  },
  {
   "cell_type": "code",
   "execution_count": 62,
   "id": "432acc91",
   "metadata": {},
   "outputs": [],
   "source": [
    "df_test = pd.read_csv(\"../data/test/test.csv\")"
   ]
  },
  {
   "cell_type": "code",
   "execution_count": 81,
   "id": "057cc80f",
   "metadata": {},
   "outputs": [],
   "source": [
    "final_df[['id','target']].to_csv('submission_elmo_accmetric.csv',index=False)"
   ]
  },
  {
   "cell_type": "code",
   "execution_count": null,
   "id": "4efb84d3",
   "metadata": {},
   "outputs": [],
   "source": []
  }
 ],
 "metadata": {
  "interpreter": {
   "hash": "baf9b38691353db4aaced5eebb5c5d067bde62f8d297a23724848dd35f93e574"
  },
  "kernelspec": {
   "display_name": "Python 3 (ipykernel)",
   "language": "python",
   "name": "python3"
  },
  "language_info": {
   "codemirror_mode": {
    "name": "ipython",
    "version": 3
   },
   "file_extension": ".py",
   "mimetype": "text/x-python",
   "name": "python",
   "nbconvert_exporter": "python",
   "pygments_lexer": "ipython3",
   "version": "3.8.8"
  }
 },
 "nbformat": 4,
 "nbformat_minor": 5
}
